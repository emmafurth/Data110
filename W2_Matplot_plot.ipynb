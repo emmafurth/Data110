{
  "cells": [
    {
      "cell_type": "markdown",
      "metadata": {
        "id": "view-in-github",
        "colab_type": "text"
      },
      "source": [
        "<a href=\"https://colab.research.google.com/github/emmafurth/Data110/blob/main/W2_Matplot_plot.ipynb\" target=\"_parent\"><img src=\"https://colab.research.google.com/assets/colab-badge.svg\" alt=\"Open In Colab\"/></a>"
      ]
    },
    {
      "cell_type": "markdown",
      "id": "62cbc002",
      "metadata": {
        "id": "62cbc002"
      },
      "source": [
        "### Week 2: Exploring Temperature Trends in Death Valley: A Data Visualization Tutorial"
      ]
    },
    {
      "cell_type": "markdown",
      "id": "f3592255",
      "metadata": {
        "id": "f3592255"
      },
      "source": [
        "In this tutorial, we'll examine the temperature trends in Death Valley and other city. We'll explore how these trends are important for climate studies and managing local tourism. Throughout this process, we'll also learn how to utilize `Matplotlib`, a powerful plotting library in Python. By analyzing Death Valley's temperature data, we'll gain practical experience in visualizing complex datasets, enabling us to better understand and communicate the insights we find through our analysis."
      ]
    },
    {
      "cell_type": "markdown",
      "id": "3181120d",
      "metadata": {
        "id": "3181120d"
      },
      "source": [
        "**Step 1: Setting Up Your Environment**"
      ]
    },
    {
      "cell_type": "code",
      "execution_count": 1,
      "id": "38189d79",
      "metadata": {
        "id": "38189d79"
      },
      "outputs": [],
      "source": [
        "# Importing pandas for data manipulation\n",
        "import pandas as pd"
      ]
    },
    {
      "cell_type": "markdown",
      "id": "872893fa",
      "metadata": {
        "id": "872893fa"
      },
      "source": [
        "**Step 2: Loading the Data**"
      ]
    },
    {
      "cell_type": "code",
      "execution_count": null,
      "id": "7ee62e5f",
      "metadata": {
        "id": "7ee62e5f"
      },
      "outputs": [],
      "source": [
        "# Loading the dataset from a URL\n",
        "df = pd.read_csv(\"https://wilkelab.org/SDS375/datasets/tempnormals.csv\")"
      ]
    },
    {
      "cell_type": "code",
      "execution_count": null,
      "id": "1de0eea2",
      "metadata": {
        "id": "1de0eea2"
      },
      "outputs": [],
      "source": [
        "# Displaying the top 5 rows of the dataset\n",
        "df.head()"
      ]
    },
    {
      "cell_type": "markdown",
      "id": "8ddecfbc",
      "metadata": {
        "id": "8ddecfbc"
      },
      "source": [
        "**Step 3: Isolating the Data of Interest**"
      ]
    },
    {
      "cell_type": "code",
      "execution_count": null,
      "id": "7b4b5b84",
      "metadata": {
        "id": "7b4b5b84"
      },
      "outputs": [],
      "source": [
        "# Creating a DataFrame for Death Valley data\n",
        "dv = df[df['location'] == 'Death Valley']\n",
        "dh=df[df['location']=='Houston']\n",
        "dc=df[df['location']=='Chicago']\n",
        "ds=df[df['location']=='San Diego']\n"
      ]
    },
    {
      "cell_type": "code",
      "execution_count": null,
      "id": "eff09f6c",
      "metadata": {
        "id": "eff09f6c"
      },
      "outputs": [],
      "source": [
        "# Displaying the first 3 rows of the Death Valley data\n",
        "dv.head(3)"
      ]
    },
    {
      "cell_type": "markdown",
      "id": "e11122c2",
      "metadata": {
        "id": "e11122c2"
      },
      "source": [
        "**Step 4: Time to Visualize**"
      ]
    },
    {
      "cell_type": "code",
      "execution_count": null,
      "id": "35055afc",
      "metadata": {
        "id": "35055afc"
      },
      "outputs": [],
      "source": [
        "# Importing matplotlib for visualization\n",
        "import matplotlib.pyplot as plt"
      ]
    },
    {
      "cell_type": "code",
      "execution_count": null,
      "id": "3537b4cc",
      "metadata": {
        "id": "3537b4cc"
      },
      "outputs": [],
      "source": [
        "# Initial plot of temperature trends in Death Valley\n",
        "plt.plot(dv['day_of_year'], dv['temperature'])\n",
        "plt.show()"
      ]
    },
    {
      "cell_type": "code",
      "execution_count": null,
      "id": "1cfd5774",
      "metadata": {
        "id": "1cfd5774"
      },
      "outputs": [],
      "source": [
        "# Enhancing the graph with labels, title, and grid\n",
        "plt.plot(dv['day_of_year'], dv['temperature'])\n",
        "plt.xlabel('Day')\n",
        "plt.ylabel('Temperature')\n",
        "plt.title(\"Trend of Temperature in Death Valley\")\n",
        "plt.grid()\n",
        "plt.show()"
      ]
    },
    {
      "cell_type": "markdown",
      "id": "d78e0719",
      "metadata": {
        "id": "d78e0719"
      },
      "source": [
        "**Step 5: Styling Our Graph**"
      ]
    },
    {
      "cell_type": "code",
      "execution_count": null,
      "id": "e9b28251",
      "metadata": {
        "id": "e9b28251"
      },
      "outputs": [],
      "source": [
        "# Checking available styles\n",
        "plt.style.available"
      ]
    },
    {
      "cell_type": "code",
      "execution_count": null,
      "id": "b3e2d7e4",
      "metadata": {
        "id": "b3e2d7e4"
      },
      "outputs": [],
      "source": [
        "# Applying the 'ggplot' style\n",
        "plt.style.use('ggplot')\n",
        "plt.plot(dv['day_of_year'], dv['temperature'])\n",
        "plt.xlabel('Day')\n",
        "plt.ylabel('Temperature')\n",
        "plt.title(\"Trend of Temperature in Death Valley\")\n",
        "plt.grid(True)\n",
        "plt.show()\n",
        "\n"
      ]
    },
    {
      "cell_type": "markdown",
      "id": "e3e388ca",
      "metadata": {
        "id": "e3e388ca"
      },
      "source": [
        "**Step 6: Comparing with the Average**"
      ]
    },
    {
      "cell_type": "code",
      "execution_count": null,
      "id": "d44abd31",
      "metadata": {
        "id": "d44abd31"
      },
      "outputs": [],
      "source": [
        "# Calculating the average temperature of Death Valley\n",
        "descriptive_data_dv = dv['temperature'].describe()\n",
        "Average_dv = descriptive_data_dv['mean']\n",
        "print(Average_dv)"
      ]
    },
    {
      "cell_type": "code",
      "execution_count": null,
      "id": "9b48961e",
      "metadata": {
        "id": "9b48961e"
      },
      "outputs": [],
      "source": [
        "# Plotting the temperature data with the average temperature\n",
        "plt.style.use('ggplot')\n",
        "\n",
        "plt.axhline(y=Average_dv, color='darkblue', linestyle='--', label='Average')\n",
        "plt.plot(dv['day_of_year'], dv['temperature'], color='red',label='Death Valley Temperature')\n",
        "plt.xlabel('Day')\n",
        "plt.ylabel('Temperature')\n",
        "plt.title(\"Trend of Temperature in Death Valley\")\n",
        "plt.grid(True)\n",
        "plt.legend()\n",
        "plt.show()"
      ]
    },
    {
      "cell_type": "code",
      "execution_count": null,
      "id": "E0u0r59CwzLt",
      "metadata": {
        "id": "E0u0r59CwzLt"
      },
      "outputs": [],
      "source": [
        "# Plotting the temperature data with the average temperature\n",
        "plt.figure(figsize=(8,5))\n",
        "plt.style.use('ggplot')\n",
        "\n",
        "plt.axhline(y=Average_dv, linestyle='--', color='lightblue',label='Average')\n",
        "plt.plot(dv['day_of_year'], dv['temperature'], label='Death Valley Temperature')\n",
        "plt.xlabel('Day')\n",
        "plt.ylabel('Temperature')\n",
        "plt.title('Trend Temperature in Death Valley',color='orange')\n",
        "plt.grid(True)\n",
        "plt.legend(facecolor='darkgray', framealpha=.8)\n",
        "plt.show()"
      ]
    },
    {
      "cell_type": "markdown",
      "id": "324c6ca9",
      "metadata": {
        "id": "324c6ca9"
      },
      "source": [
        "### Conclusion:\n",
        "Congratulations! You've not only visualized the temperature trends of Death Valley but also enhanced the graph to make it informative and visually appealing. This graph tells a story, one that speaks of extreme heat, daily variations, and the overall climate of one of the harshest environments on our planet.\n",
        "\n",
        "What's next? Try analyzing another variable from the dataset, or perhaps compare Death Valley's temperatures with another location. The world of data visualization is vast and full of possibilities. Happy plotting!"
      ]
    },
    {
      "cell_type": "code",
      "execution_count": null,
      "id": "ZrZUS7nnlbM1",
      "metadata": {
        "id": "ZrZUS7nnlbM1"
      },
      "outputs": [],
      "source": [
        "# Plotting the temperature data with the average temperature\n",
        "plt.figure(figsize=(10,5))\n",
        "plt.style.use('ggplot')\n",
        "plt.plot(dv['day_of_year'], dv['temperature'], label='Death Valley ')\n",
        "plt.plot(dh['day_of_year'], dh['temperature'], label='Huston ')\n",
        "plt.plot(dc['day_of_year'], dc['temperature'], label='Chicago')\n",
        "plt.plot(ds['day_of_year'], ds['temperature'], label='San Diago ')\n",
        "plt.xlabel('Day')\n",
        "plt.ylabel('Temperature')\n",
        "plt.title('Trend Temperature in Death Valley',color='orange')\n",
        "plt.grid(True)\n",
        "plt.legend(facecolor='darkgray', framealpha=.8)\n",
        "plt.savefig('Trend_Temp.png')\n",
        "plt.show()"
      ]
    }
  ],
  "metadata": {
    "colab": {
      "provenance": [],
      "include_colab_link": true
    },
    "kernelspec": {
      "display_name": "Python 3 (ipykernel)",
      "language": "python",
      "name": "python3"
    },
    "language_info": {
      "codemirror_mode": {
        "name": "ipython",
        "version": 3
      },
      "file_extension": ".py",
      "mimetype": "text/x-python",
      "name": "python",
      "nbconvert_exporter": "python",
      "pygments_lexer": "ipython3",
      "version": "3.11.5"
    }
  },
  "nbformat": 4,
  "nbformat_minor": 5
}